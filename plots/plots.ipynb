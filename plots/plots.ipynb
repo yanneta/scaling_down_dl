{
 "cells": [
  {
   "cell_type": "code",
   "execution_count": 1,
   "id": "a08f9c79",
   "metadata": {},
   "outputs": [],
   "source": [
    "import pandas as pd\n",
    "from plot_utils import *"
   ]
  },
  {
   "cell_type": "code",
   "execution_count": 80,
   "id": "cfab89c6",
   "metadata": {},
   "outputs": [],
   "source": [
    "green=\"#2ca25f\"\n",
    "dg = '#303030'"
   ]
  },
  {
   "cell_type": "code",
   "execution_count": 2,
   "id": "e4ae3f8f",
   "metadata": {},
   "outputs": [
    {
     "name": "stdout",
     "output_type": "stream",
     "text": [
      "chexpert_mobilenet_width_depths.csv rsna_mobilenet_widths_depths.csv\r\n",
      "chexpert_resnet_widths_depths.csv   rsna_resnet_widths_depths.csv\r\n",
      "chexpertresnet_depthwise.csv\r\n"
     ]
    }
   ],
   "source": [
    "! ls ../logs"
   ]
  },
  {
   "cell_type": "code",
   "execution_count": 3,
   "id": "e385f5ed",
   "metadata": {},
   "outputs": [],
   "source": [
    "def aggregating_results(df):\n",
    "    grouped = df.groupby(['params'])\n",
    "    result = pd.DataFrame(grouped['val_score'].agg(['mean', 'min', 'max']).reset_index())\n",
    "    return result"
   ]
  },
  {
   "cell_type": "code",
   "execution_count": 81,
   "id": "06f29323",
   "metadata": {},
   "outputs": [],
   "source": [
    "def plot_experiment(df, ax, text):\n",
    "    x = df[\"params\"]\n",
    "    y = df[\"mean\"]\n",
    "    y1 = df[\"min\"]\n",
    "    y2 = df[\"max\"]\n",
    "    ax.plot(x, y, color=green)\n",
    "    ax.scatter(x, y, marker='|', color=green, s=10)\n",
    "    ax.fill_between(x, y1, y2, color=dg, alpha=.1) \n",
    "    ax.text(x.max() + 100000, y.max(), text, horizontalalignment='left', fontsize=16, color=green)"
   ]
  },
  {
   "cell_type": "markdown",
   "id": "adb47e55",
   "metadata": {},
   "source": [
    "### Resnet widths_depths"
   ]
  },
  {
   "cell_type": "code",
   "execution_count": 82,
   "id": "fb01fa43",
   "metadata": {},
   "outputs": [],
   "source": [
    "files = [\"chexpert_resnet_widths_depths.csv\", \"rsna_resnet_widths_depths.csv\"]"
   ]
  },
  {
   "cell_type": "code",
   "execution_count": 83,
   "id": "e380ab20",
   "metadata": {},
   "outputs": [
    {
     "data": {
      "text/plain": [
       "array([ 3329749,  3334421,  3352981,  3403733,  3408405,  3426965,\n",
       "        4905893,  4924453,  4998437,  5201317,  5219877,  5293861,\n",
       "        7093365,  7135029,  7301301,  7757685,  7799349,  7965621,\n",
       "        9628997,  9702981,  9998405, 10809669, 10883653, 11179077])"
      ]
     },
     "execution_count": 83,
     "metadata": {},
     "output_type": "execute_result"
    }
   ],
   "source": [
    "dfs[0].params.values"
   ]
  },
  {
   "cell_type": "code",
   "execution_count": 84,
   "id": "d464d96b",
   "metadata": {},
   "outputs": [],
   "source": [
    "params = dfs[0].params.values\n",
    "T = [params[i] for i in [0, 7, 13, 19, 23]]"
   ]
  },
  {
   "cell_type": "code",
   "execution_count": 88,
   "id": "9883ee12",
   "metadata": {},
   "outputs": [],
   "source": [
    "S = [\"3.3M\", \"4.9M\", \"7.1M\", \"9.7M\", \"11.2M\"]"
   ]
  },
  {
   "cell_type": "code",
   "execution_count": 92,
   "id": "b5db0729",
   "metadata": {},
   "outputs": [
    {
     "data": {
      "image/png": "[encoded data removed]",
      "text/plain": [
       "<Figure size 432x288 with 1 Axes>"
      ]
     },
     "metadata": {
      "needs_background": "dark"
     },
     "output_type": "display_data"
    }
   ],
   "source": [
    "dfs = [pd.read_csv(\"../logs/\" + f) for f in files]\n",
    "dfs = [aggregating_results(df) for df in dfs]\n",
    "texts = [\"Chexpert\", \"Rsna\"]\n",
    "fig, ax = plt.subplots()\n",
    "clean_axis(ax)\n",
    "for i in range(0, len(dfs)):\n",
    "    plot_experiment(dfs[i], ax, texts[i])\n",
    "ax.set_xticks(T)\n",
    "ax.set_xticklabels(S, color=lg, fontsize=12)\n",
    "plt.axvline(x=11179077, color=lg, linestyle='--')\n",
    "ax.text(11179077 - 100000, 0.55, \"Resnet-18\", horizontalalignment='right', fontsize=16, color=lg)\n",
    "plt.savefig('resnet_widths_depths.png', bbox_inches='tight')\n",
    "plt.show()"
   ]
  },
  {
   "cell_type": "code",
   "execution_count": null,
   "id": "ba4d6cf9",
   "metadata": {},
   "outputs": [],
   "source": []
  }
 ],
 "metadata": {
  "kernelspec": {
   "display_name": "Python 3",
   "language": "python",
   "name": "python3"
  },
  "language_info": {
   "codemirror_mode": {
    "name": "ipython",
    "version": 3
   },
   "file_extension": ".py",
   "mimetype": "text/x-python",
   "name": "python",
   "nbconvert_exporter": "python",
   "pygments_lexer": "ipython3",
   "version": "3.8.10"
  }
 },
 "nbformat": 4,
 "nbformat_minor": 5
}
